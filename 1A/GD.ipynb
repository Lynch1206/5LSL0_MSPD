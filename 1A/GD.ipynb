{
 "cells": [
  {
   "cell_type": "markdown",
   "metadata": {},
   "source": [
    "# 1.2.2 Stpeest gradient descent\n"
   ]
  },
  {
   "cell_type": "code",
   "execution_count": 6,
   "metadata": {},
   "outputs": [
    {
     "name": "stdout",
     "output_type": "stream",
     "text": [
      "         X        Y\n",
      "0  0.00000  0.34438\n",
      "1 -1.10410 -0.17451\n",
      "2  0.31334 -0.66892\n",
      "3 -0.88409 -0.14649\n",
      "4 -1.96720 -0.82132\n"
     ]
    }
   ],
   "source": [
    "import pandas as pd\n",
    "import os \n",
    "import scipy as sp\n",
    "import matplotlib as plt\n",
    "# os.path.abspath('')\n",
    "ROOT_DIR = os.path.dirname(os.path.abspath(''))\n",
    "DATA_PATH = os.path.join(ROOT_DIR, \"1A\")\n",
    "DATA_PATH = os.path.join(DATA_PATH, \"Assignment1\") # 2 layers folders\n",
    "csv_path = os.path.join(DATA_PATH, \"assignment1_data.csv\")\n",
    "df = pd.read_csv(csv_path,names= ['X','Y']) # read csv data file\n",
    "print(df.head(5))"
   ]
  }
 ],
 "metadata": {
  "interpreter": {
   "hash": "92b9ec70edceb170919d35bc71b27bd2e0edadb4353f27f03b3e4eee7c694308"
  },
  "kernelspec": {
   "display_name": "Python 3.10.4 ('.venv': venv)",
   "language": "python",
   "name": "python3"
  },
  "language_info": {
   "codemirror_mode": {
    "name": "ipython",
    "version": 3
   },
   "file_extension": ".py",
   "mimetype": "text/x-python",
   "name": "python",
   "nbconvert_exporter": "python",
   "pygments_lexer": "ipython3",
   "version": "3.10.4"
  },
  "orig_nbformat": 4
 },
 "nbformat": 4,
 "nbformat_minor": 2
}
